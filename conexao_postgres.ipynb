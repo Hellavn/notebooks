{
  "nbformat": 4,
  "nbformat_minor": 0,
  "metadata": {
    "colab": {
      "provenance": [],
      "authorship_tag": "ABX9TyPa1eu1xiIG2k65Z6bkcwY0"
    },
    "kernelspec": {
      "name": "python3",
      "display_name": "Python 3"
    },
    "language_info": {
      "name": "python"
    }
  },
  "cells": [
    {
      "cell_type": "markdown",
      "source": [
        "#Realização de carga de imagens encontradas no AWS S3 num banco de dados postgres no RDS.\n",
        "\n",
        "- Foram removidas as informações de conexao a conta AWS (chave de acesso), as informações de acesso ao bucket no s3 e do banco de dados encontrado no RDS. Logo, esse não é um código executável sem a edição desses pontos. "
      ],
      "metadata": {
        "id": "ROMz0cX5hVNa"
      }
    },
    {
      "cell_type": "code",
      "source": [
        "#instalação da biblioteca boto3 \n",
        "!pip install boto3\n",
        "\n",
        "import psycopg2\n",
        "import boto3\n",
        "import io"
      ],
      "metadata": {
        "colab": {
          "base_uri": "https://localhost:8080/"
        },
        "id": "dFQrSK0jWB9a",
        "outputId": "3fc66737-2d4b-4987-8b79-fe112844d9d7"
      },
      "execution_count": 1,
      "outputs": [
        {
          "output_type": "stream",
          "name": "stdout",
          "text": [
            "Looking in indexes: https://pypi.org/simple, https://us-python.pkg.dev/colab-wheels/public/simple/\n",
            "Collecting boto3\n",
            "  Downloading boto3-1.26.141-py3-none-any.whl (135 kB)\n",
            "\u001b[2K     \u001b[90m━━━━━━━━━━━━━━━━━━━━━━━━━━━━━━━━━━━━━━━\u001b[0m \u001b[32m135.6/135.6 kB\u001b[0m \u001b[31m3.3 MB/s\u001b[0m eta \u001b[36m0:00:00\u001b[0m\n",
            "\u001b[?25hCollecting botocore<1.30.0,>=1.29.141 (from boto3)\n",
            "  Downloading botocore-1.29.141-py3-none-any.whl (10.8 MB)\n",
            "\u001b[2K     \u001b[90m━━━━━━━━━━━━━━━━━━━━━━━━━━━━━━━━━━━━━━━━\u001b[0m \u001b[32m10.8/10.8 MB\u001b[0m \u001b[31m17.5 MB/s\u001b[0m eta \u001b[36m0:00:00\u001b[0m\n",
            "\u001b[?25hCollecting jmespath<2.0.0,>=0.7.1 (from boto3)\n",
            "  Downloading jmespath-1.0.1-py3-none-any.whl (20 kB)\n",
            "Collecting s3transfer<0.7.0,>=0.6.0 (from boto3)\n",
            "  Downloading s3transfer-0.6.1-py3-none-any.whl (79 kB)\n",
            "\u001b[2K     \u001b[90m━━━━━━━━━━━━━━━━━━━━━━━━━━━━━━━━━━━━━━━━\u001b[0m \u001b[32m79.8/79.8 kB\u001b[0m \u001b[31m4.6 MB/s\u001b[0m eta \u001b[36m0:00:00\u001b[0m\n",
            "\u001b[?25hRequirement already satisfied: python-dateutil<3.0.0,>=2.1 in /usr/local/lib/python3.10/dist-packages (from botocore<1.30.0,>=1.29.141->boto3) (2.8.2)\n",
            "Requirement already satisfied: urllib3<1.27,>=1.25.4 in /usr/local/lib/python3.10/dist-packages (from botocore<1.30.0,>=1.29.141->boto3) (1.26.15)\n",
            "Requirement already satisfied: six>=1.5 in /usr/local/lib/python3.10/dist-packages (from python-dateutil<3.0.0,>=2.1->botocore<1.30.0,>=1.29.141->boto3) (1.16.0)\n",
            "Installing collected packages: jmespath, botocore, s3transfer, boto3\n",
            "Successfully installed boto3-1.26.141 botocore-1.29.141 jmespath-1.0.1 s3transfer-0.6.1\n"
          ]
        }
      ]
    },
    {
      "cell_type": "code",
      "execution_count": null,
      "metadata": {
        "id": "msz145MtMvRN"
      },
      "outputs": [],
      "source": [
        "\n",
        "#conexao\n",
        "con = psycopg2.connect(host='{endpoint do banco de dados}.rds.amazonaws.com', database='postgres', user='postgres', password='{password definido na criação do banco na AWS}')\n",
        "con.autocommit = True\n",
        "\n",
        "cur = con.cursor()\n",
        "#criação o banco\n",
        "cur.execute('create database inventario;')\n",
        "con.close()\n"
      ]
    },
    {
      "cell_type": "code",
      "source": [
        "#conexao\n",
        "con = psycopg2.connect(host='{endpoint do banco de dados}.us-east-1.rds.amazonaws.com', database='inventario', user='postgres', password='{password definido na criação do banco na AWS}')\n",
        "con.autocommit = True\n",
        "\n",
        "cur = con.cursor()\n",
        "#criação da tabela\n",
        "cur.execute('create table arquivos (idarquivo INT, nomearquivo VARCHAR(256));')\n",
        "con.close()"
      ],
      "metadata": {
        "id": "TgRUcgLwUqz6"
      },
      "execution_count": null,
      "outputs": []
    },
    {
      "cell_type": "code",
      "source": [
        "s3 = boto3.resource(\n",
        "    service_name='s3',\n",
        "    region_name='sa-east-1',\n",
        "    aws_access_key_id = '{chave de acesso da conta AWS}',\n",
        "    aws_secret_access_key='{senha de acesso a conta AWS}'\n",
        ")\n",
        "\n",
        "bucket = '{nome do bucket}'\n",
        "prefix = 'img/'"
      ],
      "metadata": {
        "id": "bXAr3aubW3KZ"
      },
      "execution_count": null,
      "outputs": []
    },
    {
      "cell_type": "code",
      "source": [
        "#Listar as imagens disponiveis no bucket\n",
        "for object_s3 in s3.Bucket(bucket).objects.filter(Prefix=prefix):\n",
        "  if object_s3.key.endswith('jpg') or object_s3.key.endswith('JPG'):\n",
        "    filename = object_s3.key.split('/')[1]\n",
        "    print(filename)"
      ],
      "metadata": {
        "colab": {
          "base_uri": "https://localhost:8080/"
        },
        "id": "tV-pwGBMVrAJ",
        "outputId": "ae070738-5ab4-4ba9-8396-2c424e46da63"
      },
      "execution_count": null,
      "outputs": [
        {
          "output_type": "stream",
          "name": "stdout",
          "text": [
            "avenue-g9ad8b9b60_640.jpg\n",
            "dandelion-ge4c90edd8_640.jpg\n",
            "fantasy-g95f970a56_640.jpg\n",
            "garden-g42e486784_640.jpg\n",
            "pink-ge82d54651_640.jpg\n",
            "road-g37132565b_640.jpg\n",
            "road-g41ea28d46_640.jpg\n",
            "sunset-gac16749a1_640.jpg\n",
            "tree-g386d6021c_640.jpg\n",
            "tree-gd34ff2fcb_640.jpg\n"
          ]
        }
      ]
    },
    {
      "cell_type": "code",
      "source": [
        "con = psycopg2.connect(host='{endpoint do banco de dados}.us-east-1.rds.amazonaws.com', database='inventario', user='postgres', password='{password definido na criação do banco na AWS}')\n",
        "con.autocommit = True\n",
        "\n",
        "cur = con.cursor()\n",
        "id = 0\n",
        "\n",
        "for object_s3 in s3.Bucket(bucket).objects.filter(Prefix=prefix):\n",
        "  if object_s3.key.endswith('jpg') or object_s3.key.endswith('JPG'):\n",
        "    filename = object_s3.key.split('/')[1]\n",
        "    id+=1\n",
        "    cur.execute(\"insert into arquivos (idarquivo,nomearquivo) values (\" +str(id)+\",'\" + filename + \"');\")\n",
        "\n",
        "con.close()"
      ],
      "metadata": {
        "colab": {
          "base_uri": "https://localhost:8080/"
        },
        "id": "QuOMkwG8W0ml",
        "outputId": "5c2041b8-e540-499e-8f1b-58cfd407812b"
      },
      "execution_count": null,
      "outputs": [
        {
          "output_type": "stream",
          "name": "stdout",
          "text": [
            "avenue-g9ad8b9b60_640.jpg\n",
            "dandelion-ge4c90edd8_640.jpg\n",
            "fantasy-g95f970a56_640.jpg\n",
            "garden-g42e486784_640.jpg\n",
            "pink-ge82d54651_640.jpg\n",
            "road-g37132565b_640.jpg\n",
            "road-g41ea28d46_640.jpg\n",
            "sunset-gac16749a1_640.jpg\n",
            "tree-g386d6021c_640.jpg\n",
            "tree-gd34ff2fcb_640.jpg\n"
          ]
        }
      ]
    },
    {
      "cell_type": "code",
      "source": [
        "con = psycopg2.connect(host='{endpoint do banco de dados}.us-east-1.rds.amazonaws.com', database='inventario', user='postgres', password='{password definido na criação do banco na AWS}')\n",
        "con.autocommit = True\n",
        "\n",
        "cur = con.cursor()\n",
        "\n",
        "cur.execute(\"select * from arquivos;\")\n",
        "recset = cur.fetchall()\n",
        "\n",
        "for rec in recset:\n",
        "  print(rec)\n",
        "\n",
        "con.close()"
      ],
      "metadata": {
        "colab": {
          "base_uri": "https://localhost:8080/"
        },
        "id": "-lV9cQyhgML4",
        "outputId": "cbfde3a8-7f2c-4e7e-9dfd-2c881d9d97e6"
      },
      "execution_count": null,
      "outputs": [
        {
          "output_type": "stream",
          "name": "stdout",
          "text": [
            "(1, 'avenue-g9ad8b9b60_640.jpg')\n",
            "(2, 'dandelion-ge4c90edd8_640.jpg')\n",
            "(3, 'fantasy-g95f970a56_640.jpg')\n",
            "(4, 'garden-g42e486784_640.jpg')\n",
            "(5, 'pink-ge82d54651_640.jpg')\n",
            "(6, 'road-g37132565b_640.jpg')\n",
            "(7, 'road-g41ea28d46_640.jpg')\n",
            "(8, 'sunset-gac16749a1_640.jpg')\n",
            "(9, 'tree-g386d6021c_640.jpg')\n",
            "(10, 'tree-gd34ff2fcb_640.jpg')\n"
          ]
        }
      ]
    }
  ]
}